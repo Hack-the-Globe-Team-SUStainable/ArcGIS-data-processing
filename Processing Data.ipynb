{
 "cells": [
  {
   "cell_type": "markdown",
   "metadata": {},
   "source": [
    "# Data Pre-Processing for ArcGIS Input\n",
    "\n",
    "#### Datasets and Sources:\n",
    "\n",
    "Impact / Collisions DataSet: Toronto Police Open-Source Datasets\n",
    "\n",
    "Intersection Congestion Data: City of Toronto Open-Source Datasets\n",
    "\n",
    "TTC Schedule: City of Toronto Open-Source Datasets"
   ]
  },
  {
   "cell_type": "code",
   "execution_count": 147,
   "metadata": {},
   "outputs": [],
   "source": [
    "import pandas as pd\n",
    "import numpy as np\n",
    "import matplotlib.pyplot as plt\n",
    "import seaborn as sb\n",
    "from bs4 import BeautifulSoup\n",
    "%matplotlib inline \n",
    "\n",
    "intersection = pd.read_csv('Data/tmcs_2010_2019.csv')\n",
    "collisions = pd.read_csv('Data/KSI.csv')\n",
    "densities = pd.read_csv('Data/wellbeing_toronto.csv')"
   ]
  },
  {
   "cell_type": "markdown",
   "metadata": {},
   "source": [
    "# Intersections"
   ]
  },
  {
   "cell_type": "code",
   "execution_count": 148,
   "metadata": {},
   "outputs": [
    {
     "data": {
      "text/html": [
       "<div>\n",
       "<style scoped>\n",
       "    .dataframe tbody tr th:only-of-type {\n",
       "        vertical-align: middle;\n",
       "    }\n",
       "\n",
       "    .dataframe tbody tr th {\n",
       "        vertical-align: top;\n",
       "    }\n",
       "\n",
       "    .dataframe thead th {\n",
       "        text-align: right;\n",
       "    }\n",
       "</style>\n",
       "<table border=\"1\" class=\"dataframe\">\n",
       "  <thead>\n",
       "    <tr style=\"text-align: right;\">\n",
       "      <th></th>\n",
       "      <th>count_id</th>\n",
       "      <th>count_date</th>\n",
       "      <th>location_id</th>\n",
       "      <th>location</th>\n",
       "      <th>lng</th>\n",
       "      <th>lat</th>\n",
       "      <th>centreline_type</th>\n",
       "      <th>centreline_id</th>\n",
       "      <th>px</th>\n",
       "      <th>time_start</th>\n",
       "      <th>...</th>\n",
       "      <th>ex_peds</th>\n",
       "      <th>wx_peds</th>\n",
       "      <th>nx_bike</th>\n",
       "      <th>sx_bike</th>\n",
       "      <th>ex_bike</th>\n",
       "      <th>wx_bike</th>\n",
       "      <th>nx_other</th>\n",
       "      <th>sx_other</th>\n",
       "      <th>ex_other</th>\n",
       "      <th>wx_other</th>\n",
       "    </tr>\n",
       "  </thead>\n",
       "  <tbody>\n",
       "    <tr>\n",
       "      <th>0</th>\n",
       "      <td>25081</td>\n",
       "      <td>2010-01-12</td>\n",
       "      <td>32187</td>\n",
       "      <td>LILLIAN ST AT SOUDAN AVE</td>\n",
       "      <td>-79.393259</td>\n",
       "      <td>43.705283</td>\n",
       "      <td>2.0</td>\n",
       "      <td>13457294.0</td>\n",
       "      <td>NaN</td>\n",
       "      <td>2010-01-12 07:30:00-05:00</td>\n",
       "      <td>...</td>\n",
       "      <td>0.0</td>\n",
       "      <td>1.0</td>\n",
       "      <td>0.0</td>\n",
       "      <td>0.0</td>\n",
       "      <td>0.0</td>\n",
       "      <td>0.0</td>\n",
       "      <td>0.0</td>\n",
       "      <td>0.0</td>\n",
       "      <td>0.0</td>\n",
       "      <td>0.0</td>\n",
       "    </tr>\n",
       "  </tbody>\n",
       "</table>\n",
       "<p>1 rows × 59 columns</p>\n",
       "</div>"
      ],
      "text/plain": [
       "   count_id  count_date  location_id                  location        lng  \\\n",
       "0     25081  2010-01-12        32187  LILLIAN ST AT SOUDAN AVE -79.393259   \n",
       "\n",
       "         lat  centreline_type  centreline_id  px                 time_start  \\\n",
       "0  43.705283              2.0     13457294.0 NaN  2010-01-12 07:30:00-05:00   \n",
       "\n",
       "   ... ex_peds  wx_peds  nx_bike  sx_bike  ex_bike  wx_bike  nx_other  \\\n",
       "0  ...     0.0      1.0      0.0      0.0      0.0      0.0       0.0   \n",
       "\n",
       "   sx_other  ex_other  wx_other  \n",
       "0       0.0       0.0       0.0  \n",
       "\n",
       "[1 rows x 59 columns]"
      ]
     },
     "execution_count": 148,
     "metadata": {},
     "output_type": "execute_result"
    }
   ],
   "source": [
    "intersection.head(1)"
   ]
  },
  {
   "cell_type": "code",
   "execution_count": 149,
   "metadata": {},
   "outputs": [],
   "source": [
    "intersection.drop(columns=['count_id', 'location_id', 'centreline_type', 'px', ], inplace=True)"
   ]
  },
  {
   "cell_type": "code",
   "execution_count": 150,
   "metadata": {},
   "outputs": [],
   "source": [
    "intersection['lrg_vehicles'] = intersection['nb_bus_r'] \\\n",
    "+ intersection['nb_bus_l'] + intersection['nb_bus_t'] \\\n",
    "+ intersection['nb_truck_r'] + intersection['nb_truck_l'] \\\n",
    "+ intersection['nb_truck_t'] + intersection['sb_bus_r'] \\\n",
    "+ intersection['sb_bus_l'] + intersection['sb_bus_t'] \\\n",
    "+ intersection['sb_truck_r'] + intersection['sb_truck_l'] \\\n",
    "+ intersection['sb_truck_t'] + intersection['eb_bus_r'] \\\n",
    "+ intersection['eb_bus_l'] + intersection['eb_bus_t'] \\\n",
    "+ intersection['eb_truck_r'] + intersection['eb_truck_l'] \\\n",
    "+ intersection['eb_truck_t'] + intersection['wb_bus_r'] \\\n",
    "+ intersection['wb_bus_l'] + intersection['wb_bus_t'] \\\n",
    "+ intersection['wb_truck_r'] + intersection['wb_truck_l'] \\\n",
    "+ intersection['wb_truck_t']"
   ]
  },
  {
   "cell_type": "code",
   "execution_count": 151,
   "metadata": {},
   "outputs": [],
   "source": [
    "intersection.drop(columns=['nb_bus_r', 'nb_bus_l', 'nb_bus_t', 'nb_truck_r', 'nb_truck_l', 'nb_truck_t', 'sb_bus_r', 'sb_bus_l', 'sb_bus_t', 'sb_truck_r','sb_truck_l', 'sb_truck_t', 'eb_bus_r', 'eb_bus_l', 'eb_bus_t', 'eb_truck_r', 'eb_truck_l', 'eb_truck_t', 'wb_bus_r', 'wb_bus_l', 'wb_bus_t', 'wb_truck_r', 'wb_truck_l', 'wb_truck_t'], inplace=True)"
   ]
  },
  {
   "cell_type": "code",
   "execution_count": 152,
   "metadata": {},
   "outputs": [],
   "source": [
    "intersection['others'] = intersection['nx_peds'] \\\n",
    "+ intersection['sx_peds'] + intersection['ex_peds'] \\\n",
    "+ intersection['wx_peds'] + intersection['nx_bike'] \\\n",
    "+ intersection['sx_bike'] + intersection['ex_bike'] \\\n",
    "+ intersection['wx_bike'] + intersection['nx_other'] \\\n",
    "+ intersection['sx_other'] + intersection['ex_other'] \\\n",
    "+intersection['wx_other']"
   ]
  },
  {
   "cell_type": "code",
   "execution_count": 153,
   "metadata": {},
   "outputs": [],
   "source": [
    "intersection.drop(columns=['nx_peds', 'sx_peds', 'ex_peds', 'wx_peds', 'nx_bike', 'sx_bike', 'ex_bike', 'wx_bike', 'nx_other', 'sx_other', 'ex_other', 'wx_other'], inplace=True)"
   ]
  },
  {
   "cell_type": "code",
   "execution_count": 154,
   "metadata": {},
   "outputs": [],
   "source": [
    "intersection['cars'] = intersection['sb_cars_r'] \\\n",
    "+ intersection['sb_cars_t'] + intersection['sb_cars_l'] \\\n",
    "+ intersection['nb_cars_r'] + intersection['nb_cars_t'] \\\n",
    "+ intersection['nb_cars_l'] + intersection['wb_cars_r'] \\\n",
    "+ intersection['wb_cars_t'] + intersection['wb_cars_l'] \\\n",
    "+ intersection['eb_cars_r'] + intersection['eb_cars_t'] \\\n",
    "+ intersection['eb_cars_l']"
   ]
  },
  {
   "cell_type": "code",
   "execution_count": 155,
   "metadata": {},
   "outputs": [],
   "source": [
    "intersection.drop(columns=['sb_cars_r', 'sb_cars_t', 'sb_cars_l', 'nb_cars_r', 'nb_cars_t', 'nb_cars_l', 'wb_cars_r', 'wb_cars_t', 'wb_cars_l', 'eb_cars_r', 'eb_cars_t', 'eb_cars_l'], inplace=True)"
   ]
  },
  {
   "cell_type": "code",
   "execution_count": 156,
   "metadata": {},
   "outputs": [
    {
     "data": {
      "text/html": [
       "<div>\n",
       "<style scoped>\n",
       "    .dataframe tbody tr th:only-of-type {\n",
       "        vertical-align: middle;\n",
       "    }\n",
       "\n",
       "    .dataframe tbody tr th {\n",
       "        vertical-align: top;\n",
       "    }\n",
       "\n",
       "    .dataframe thead th {\n",
       "        text-align: right;\n",
       "    }\n",
       "</style>\n",
       "<table border=\"1\" class=\"dataframe\">\n",
       "  <thead>\n",
       "    <tr style=\"text-align: right;\">\n",
       "      <th></th>\n",
       "      <th>count_date</th>\n",
       "      <th>location</th>\n",
       "      <th>lng</th>\n",
       "      <th>lat</th>\n",
       "      <th>centreline_id</th>\n",
       "      <th>time_start</th>\n",
       "      <th>time_end</th>\n",
       "      <th>lrg_vehicles</th>\n",
       "      <th>others</th>\n",
       "      <th>cars</th>\n",
       "    </tr>\n",
       "  </thead>\n",
       "  <tbody>\n",
       "    <tr>\n",
       "      <th>0</th>\n",
       "      <td>2010-01-12</td>\n",
       "      <td>LILLIAN ST AT SOUDAN AVE</td>\n",
       "      <td>-79.393259</td>\n",
       "      <td>43.705283</td>\n",
       "      <td>13457294.0</td>\n",
       "      <td>2010-01-12 07:30:00-05:00</td>\n",
       "      <td>2010-01-12 07:45:00-05:00</td>\n",
       "      <td>3.0</td>\n",
       "      <td>13.0</td>\n",
       "      <td>91.0</td>\n",
       "    </tr>\n",
       "    <tr>\n",
       "      <th>1</th>\n",
       "      <td>2010-01-12</td>\n",
       "      <td>LILLIAN ST AT SOUDAN AVE</td>\n",
       "      <td>-79.393259</td>\n",
       "      <td>43.705283</td>\n",
       "      <td>13457294.0</td>\n",
       "      <td>2010-01-12 07:45:00-05:00</td>\n",
       "      <td>2010-01-12 08:00:00-05:00</td>\n",
       "      <td>4.0</td>\n",
       "      <td>19.0</td>\n",
       "      <td>124.0</td>\n",
       "    </tr>\n",
       "    <tr>\n",
       "      <th>2</th>\n",
       "      <td>2010-01-12</td>\n",
       "      <td>LILLIAN ST AT SOUDAN AVE</td>\n",
       "      <td>-79.393259</td>\n",
       "      <td>43.705283</td>\n",
       "      <td>13457294.0</td>\n",
       "      <td>2010-01-12 08:00:00-05:00</td>\n",
       "      <td>2010-01-12 08:15:00-05:00</td>\n",
       "      <td>5.0</td>\n",
       "      <td>21.0</td>\n",
       "      <td>108.0</td>\n",
       "    </tr>\n",
       "    <tr>\n",
       "      <th>3</th>\n",
       "      <td>2010-01-12</td>\n",
       "      <td>LILLIAN ST AT SOUDAN AVE</td>\n",
       "      <td>-79.393259</td>\n",
       "      <td>43.705283</td>\n",
       "      <td>13457294.0</td>\n",
       "      <td>2010-01-12 08:15:00-05:00</td>\n",
       "      <td>2010-01-12 08:30:00-05:00</td>\n",
       "      <td>2.0</td>\n",
       "      <td>22.0</td>\n",
       "      <td>140.0</td>\n",
       "    </tr>\n",
       "    <tr>\n",
       "      <th>4</th>\n",
       "      <td>2010-01-12</td>\n",
       "      <td>LILLIAN ST AT SOUDAN AVE</td>\n",
       "      <td>-79.393259</td>\n",
       "      <td>43.705283</td>\n",
       "      <td>13457294.0</td>\n",
       "      <td>2010-01-12 08:30:00-05:00</td>\n",
       "      <td>2010-01-12 08:45:00-05:00</td>\n",
       "      <td>6.0</td>\n",
       "      <td>34.0</td>\n",
       "      <td>134.0</td>\n",
       "    </tr>\n",
       "  </tbody>\n",
       "</table>\n",
       "</div>"
      ],
      "text/plain": [
       "   count_date                  location        lng        lat  centreline_id  \\\n",
       "0  2010-01-12  LILLIAN ST AT SOUDAN AVE -79.393259  43.705283     13457294.0   \n",
       "1  2010-01-12  LILLIAN ST AT SOUDAN AVE -79.393259  43.705283     13457294.0   \n",
       "2  2010-01-12  LILLIAN ST AT SOUDAN AVE -79.393259  43.705283     13457294.0   \n",
       "3  2010-01-12  LILLIAN ST AT SOUDAN AVE -79.393259  43.705283     13457294.0   \n",
       "4  2010-01-12  LILLIAN ST AT SOUDAN AVE -79.393259  43.705283     13457294.0   \n",
       "\n",
       "                  time_start                   time_end  lrg_vehicles  others  \\\n",
       "0  2010-01-12 07:30:00-05:00  2010-01-12 07:45:00-05:00           3.0    13.0   \n",
       "1  2010-01-12 07:45:00-05:00  2010-01-12 08:00:00-05:00           4.0    19.0   \n",
       "2  2010-01-12 08:00:00-05:00  2010-01-12 08:15:00-05:00           5.0    21.0   \n",
       "3  2010-01-12 08:15:00-05:00  2010-01-12 08:30:00-05:00           2.0    22.0   \n",
       "4  2010-01-12 08:30:00-05:00  2010-01-12 08:45:00-05:00           6.0    34.0   \n",
       "\n",
       "    cars  \n",
       "0   91.0  \n",
       "1  124.0  \n",
       "2  108.0  \n",
       "3  140.0  \n",
       "4  134.0  "
      ]
     },
     "execution_count": 156,
     "metadata": {},
     "output_type": "execute_result"
    }
   ],
   "source": [
    "intersection.head()"
   ]
  },
  {
   "cell_type": "code",
   "execution_count": 157,
   "metadata": {},
   "outputs": [
    {
     "data": {
      "text/html": [
       "<div>\n",
       "<style scoped>\n",
       "    .dataframe tbody tr th:only-of-type {\n",
       "        vertical-align: middle;\n",
       "    }\n",
       "\n",
       "    .dataframe tbody tr th {\n",
       "        vertical-align: top;\n",
       "    }\n",
       "\n",
       "    .dataframe thead th {\n",
       "        text-align: right;\n",
       "    }\n",
       "</style>\n",
       "<table border=\"1\" class=\"dataframe\">\n",
       "  <thead>\n",
       "    <tr style=\"text-align: right;\">\n",
       "      <th></th>\n",
       "      <th>location</th>\n",
       "      <th>lng</th>\n",
       "      <th>lat</th>\n",
       "      <th>centreline_id</th>\n",
       "      <th>lrg_vehicles</th>\n",
       "      <th>others</th>\n",
       "      <th>cars</th>\n",
       "    </tr>\n",
       "  </thead>\n",
       "  <tbody>\n",
       "    <tr>\n",
       "      <th>0</th>\n",
       "      <td>PORTLAND ST AT QUEEN ST W (PX 2088)</td>\n",
       "      <td>-79.401414</td>\n",
       "      <td>43.647710</td>\n",
       "      <td>13467150.0</td>\n",
       "      <td>1117.0</td>\n",
       "      <td>11613.0</td>\n",
       "      <td>13118.0</td>\n",
       "    </tr>\n",
       "    <tr>\n",
       "      <th>1</th>\n",
       "      <td># 1101 LESLIE ST AT 430M N OF EGLINTON AVE (PX...</td>\n",
       "      <td>-79.349127</td>\n",
       "      <td>43.722364</td>\n",
       "      <td>30112872.0</td>\n",
       "      <td>788.0</td>\n",
       "      <td>191.0</td>\n",
       "      <td>18957.0</td>\n",
       "    </tr>\n",
       "    <tr>\n",
       "      <th>2</th>\n",
       "      <td># 111 PROGRESS AVE AT ATLANTIC PACKAGING (PX 2...</td>\n",
       "      <td>-79.272986</td>\n",
       "      <td>43.772966</td>\n",
       "      <td>13446743.0</td>\n",
       "      <td>1468.0</td>\n",
       "      <td>973.0</td>\n",
       "      <td>20493.0</td>\n",
       "    </tr>\n",
       "    <tr>\n",
       "      <th>3</th>\n",
       "      <td># 1155 LESLIE ST AT BMW DEALERSHIP &amp; 990M S OF...</td>\n",
       "      <td>-79.352746</td>\n",
       "      <td>43.728709</td>\n",
       "      <td>30004029.0</td>\n",
       "      <td>1679.0</td>\n",
       "      <td>61.0</td>\n",
       "      <td>15407.0</td>\n",
       "    </tr>\n",
       "    <tr>\n",
       "      <th>4</th>\n",
       "      <td># 1315 NEILSON RD AT NEILSON RD &amp; 175M N OF TA...</td>\n",
       "      <td>-79.219896</td>\n",
       "      <td>43.808089</td>\n",
       "      <td>12834067.0</td>\n",
       "      <td>922.0</td>\n",
       "      <td>2115.0</td>\n",
       "      <td>20680.0</td>\n",
       "    </tr>\n",
       "    <tr>\n",
       "      <th>...</th>\n",
       "      <td>...</td>\n",
       "      <td>...</td>\n",
       "      <td>...</td>\n",
       "      <td>...</td>\n",
       "      <td>...</td>\n",
       "      <td>...</td>\n",
       "      <td>...</td>\n",
       "    </tr>\n",
       "    <tr>\n",
       "      <th>3811</th>\n",
       "      <td>YONGE ST AT MOUNT PLEASANT CEMETERY ENTRANCE</td>\n",
       "      <td>-79.395342</td>\n",
       "      <td>43.692099</td>\n",
       "      <td>13459571.0</td>\n",
       "      <td>377.0</td>\n",
       "      <td>983.0</td>\n",
       "      <td>13418.0</td>\n",
       "    </tr>\n",
       "    <tr>\n",
       "      <th>3812</th>\n",
       "      <td>YONGE ST AT OLIVE AVE</td>\n",
       "      <td>-79.415286</td>\n",
       "      <td>43.778680</td>\n",
       "      <td>13446268.0</td>\n",
       "      <td>1803.0</td>\n",
       "      <td>5426.0</td>\n",
       "      <td>15336.0</td>\n",
       "    </tr>\n",
       "    <tr>\n",
       "      <th>3813</th>\n",
       "      <td>YONGE ST AT SOUDAN AVE &amp; BERWICK AVE (PX 1375)</td>\n",
       "      <td>-79.397852</td>\n",
       "      <td>43.704351</td>\n",
       "      <td>13457472.0</td>\n",
       "      <td>1464.0</td>\n",
       "      <td>10480.0</td>\n",
       "      <td>26079.0</td>\n",
       "    </tr>\n",
       "    <tr>\n",
       "      <th>3814</th>\n",
       "      <td>YONGE ST AT YORKVILLE AVE (PX 2377)</td>\n",
       "      <td>-79.387503</td>\n",
       "      <td>43.671924</td>\n",
       "      <td>13463167.0</td>\n",
       "      <td>995.0</td>\n",
       "      <td>15976.0</td>\n",
       "      <td>23145.0</td>\n",
       "    </tr>\n",
       "    <tr>\n",
       "      <th>3815</th>\n",
       "      <td>YORK MILLS RD AT TTC BUS ACCESS &amp; 120M N E OF ...</td>\n",
       "      <td>-79.405394</td>\n",
       "      <td>43.744330</td>\n",
       "      <td>11533920.0</td>\n",
       "      <td>1224.0</td>\n",
       "      <td>872.0</td>\n",
       "      <td>12908.0</td>\n",
       "    </tr>\n",
       "  </tbody>\n",
       "</table>\n",
       "<p>3816 rows × 7 columns</p>\n",
       "</div>"
      ],
      "text/plain": [
       "                                               location        lng        lat  \\\n",
       "0                   PORTLAND ST AT QUEEN ST W (PX 2088) -79.401414  43.647710   \n",
       "1     # 1101 LESLIE ST AT 430M N OF EGLINTON AVE (PX... -79.349127  43.722364   \n",
       "2     # 111 PROGRESS AVE AT ATLANTIC PACKAGING (PX 2... -79.272986  43.772966   \n",
       "3     # 1155 LESLIE ST AT BMW DEALERSHIP & 990M S OF... -79.352746  43.728709   \n",
       "4     # 1315 NEILSON RD AT NEILSON RD & 175M N OF TA... -79.219896  43.808089   \n",
       "...                                                 ...        ...        ...   \n",
       "3811       YONGE ST AT MOUNT PLEASANT CEMETERY ENTRANCE -79.395342  43.692099   \n",
       "3812                              YONGE ST AT OLIVE AVE -79.415286  43.778680   \n",
       "3813     YONGE ST AT SOUDAN AVE & BERWICK AVE (PX 1375) -79.397852  43.704351   \n",
       "3814                YONGE ST AT YORKVILLE AVE (PX 2377) -79.387503  43.671924   \n",
       "3815  YORK MILLS RD AT TTC BUS ACCESS & 120M N E OF ... -79.405394  43.744330   \n",
       "\n",
       "      centreline_id  lrg_vehicles   others     cars  \n",
       "0        13467150.0        1117.0  11613.0  13118.0  \n",
       "1        30112872.0         788.0    191.0  18957.0  \n",
       "2        13446743.0        1468.0    973.0  20493.0  \n",
       "3        30004029.0        1679.0     61.0  15407.0  \n",
       "4        12834067.0         922.0   2115.0  20680.0  \n",
       "...             ...           ...      ...      ...  \n",
       "3811     13459571.0         377.0    983.0  13418.0  \n",
       "3812     13446268.0        1803.0   5426.0  15336.0  \n",
       "3813     13457472.0        1464.0  10480.0  26079.0  \n",
       "3814     13463167.0         995.0  15976.0  23145.0  \n",
       "3815     11533920.0        1224.0    872.0  12908.0  \n",
       "\n",
       "[3816 rows x 7 columns]"
      ]
     },
     "execution_count": 157,
     "metadata": {},
     "output_type": "execute_result"
    }
   ],
   "source": [
    "intersection = intersection.groupby(['location','lng','lat', 'centreline_id'], \\\n",
    "as_index=False).agg({'lrg_vehicles':'sum', 'others':'sum', 'cars':'sum'})\n",
    "intersection"
   ]
  },
  {
   "cell_type": "code",
   "execution_count": 158,
   "metadata": {},
   "outputs": [
    {
     "data": {
      "text/plain": [
       "True"
      ]
     },
     "execution_count": 158,
     "metadata": {},
     "output_type": "execute_result"
    }
   ],
   "source": [
    "intersection.shape[0] == intersection['location'].nunique()"
   ]
  },
  {
   "cell_type": "code",
   "execution_count": 159,
   "metadata": {},
   "outputs": [],
   "source": [
    "intersection['total_vehicles'] = intersection['cars'] + intersection['lrg_vehicles']"
   ]
  },
  {
   "cell_type": "code",
   "execution_count": 160,
   "metadata": {},
   "outputs": [
    {
     "data": {
      "text/plain": [
       "<AxesSubplot:xlabel='total_vehicles', ylabel='Count'>"
      ]
     },
     "execution_count": 160,
     "metadata": {},
     "output_type": "execute_result"
    },
    {
     "data": {
      "image/png": "[encoded data removed]",
      "text/plain": [
       "<Figure size 576x216 with 2 Axes>"
      ]
     },
     "metadata": {
      "needs_background": "light"
     },
     "output_type": "display_data"
    }
   ],
   "source": [
    "plt.figure(figsize=(8, 3))\n",
    "\n",
    "\n",
    "plt.subplot(1, 2, 1) # row 1, col 2 index 1\n",
    "intersection['total_vehicles'].plot(kind='box')\n",
    "plt.ylim(-1000, 100000)\n",
    "plt.tick_params(\n",
    "    axis='x',          \n",
    "    which='both',      \n",
    "    bottom=False,             \n",
    "    labelbottom=False)\n",
    "plt.xlabel('Total Vehicles Distribution')\n",
    "\n",
    "plt.subplot(1, 2, 2)\n",
    "sb.histplot(intersection['total_vehicles'], bins=50)"
   ]
  },
  {
   "cell_type": "code",
   "execution_count": 161,
   "metadata": {},
   "outputs": [
    {
     "data": {
      "text/plain": [
       "0.33    10472.85\n",
       "0.66    24626.10\n",
       "Name: total_vehicles, dtype: float64"
      ]
     },
     "execution_count": 161,
     "metadata": {},
     "output_type": "execute_result"
    }
   ],
   "source": [
    "intersection['total_vehicles'].quantile([0.33,0.66])"
   ]
  },
  {
   "cell_type": "code",
   "execution_count": 162,
   "metadata": {},
   "outputs": [],
   "source": [
    "intersection['traffic_density'] = pd.cut(intersection['total_vehicles'], bins=[0, 10472, 24626, float('Inf')], labels=['Medium', 'High', 'Extreme'])"
   ]
  },
  {
   "cell_type": "code",
   "execution_count": 163,
   "metadata": {},
   "outputs": [],
   "source": [
    "intersection.to_csv('intersection_traffic.csv', sep=',')"
   ]
  },
  {
   "cell_type": "markdown",
   "metadata": {},
   "source": [
    "# Collisions"
   ]
  },
  {
   "cell_type": "code",
   "execution_count": 164,
   "metadata": {},
   "outputs": [
    {
     "data": {
      "text/html": [
       "<div>\n",
       "<style scoped>\n",
       "    .dataframe tbody tr th:only-of-type {\n",
       "        vertical-align: middle;\n",
       "    }\n",
       "\n",
       "    .dataframe tbody tr th {\n",
       "        vertical-align: top;\n",
       "    }\n",
       "\n",
       "    .dataframe thead th {\n",
       "        text-align: right;\n",
       "    }\n",
       "</style>\n",
       "<table border=\"1\" class=\"dataframe\">\n",
       "  <thead>\n",
       "    <tr style=\"text-align: right;\">\n",
       "      <th></th>\n",
       "      <th>X</th>\n",
       "      <th>Y</th>\n",
       "      <th>INDEX_</th>\n",
       "      <th>ACCNUM</th>\n",
       "      <th>YEAR</th>\n",
       "      <th>DATE</th>\n",
       "      <th>TIME</th>\n",
       "      <th>HOUR</th>\n",
       "      <th>STREET1</th>\n",
       "      <th>STREET2</th>\n",
       "      <th>...</th>\n",
       "      <th>PASSENGER</th>\n",
       "      <th>SPEEDING</th>\n",
       "      <th>AG_DRIV</th>\n",
       "      <th>REDLIGHT</th>\n",
       "      <th>ALCOHOL</th>\n",
       "      <th>DISABILITY</th>\n",
       "      <th>POLICE_DIVISION</th>\n",
       "      <th>HOOD_ID</th>\n",
       "      <th>NEIGHBOURHOOD</th>\n",
       "      <th>ObjectId</th>\n",
       "    </tr>\n",
       "  </thead>\n",
       "  <tbody>\n",
       "    <tr>\n",
       "      <th>0</th>\n",
       "      <td>-8.844611e+06</td>\n",
       "      <td>5.412414e+06</td>\n",
       "      <td>3387730</td>\n",
       "      <td>892658</td>\n",
       "      <td>2006</td>\n",
       "      <td>2006/03/11 05:00:00+00</td>\n",
       "      <td>852</td>\n",
       "      <td>8</td>\n",
       "      <td>BLOOR ST W</td>\n",
       "      <td>DUNDAS ST W</td>\n",
       "      <td>...</td>\n",
       "      <td>&lt;Null&gt;</td>\n",
       "      <td>&lt;Null&gt;</td>\n",
       "      <td>Yes</td>\n",
       "      <td>&lt;Null&gt;</td>\n",
       "      <td>&lt;Null&gt;</td>\n",
       "      <td>&lt;Null&gt;</td>\n",
       "      <td>D11</td>\n",
       "      <td>88</td>\n",
       "      <td>High Park North (88)</td>\n",
       "      <td>1</td>\n",
       "    </tr>\n",
       "    <tr>\n",
       "      <th>1</th>\n",
       "      <td>-8.844611e+06</td>\n",
       "      <td>5.412414e+06</td>\n",
       "      <td>3387731</td>\n",
       "      <td>892658</td>\n",
       "      <td>2006</td>\n",
       "      <td>2006/03/11 05:00:00+00</td>\n",
       "      <td>852</td>\n",
       "      <td>8</td>\n",
       "      <td>BLOOR ST W</td>\n",
       "      <td>DUNDAS ST W</td>\n",
       "      <td>...</td>\n",
       "      <td>&lt;Null&gt;</td>\n",
       "      <td>&lt;Null&gt;</td>\n",
       "      <td>Yes</td>\n",
       "      <td>&lt;Null&gt;</td>\n",
       "      <td>&lt;Null&gt;</td>\n",
       "      <td>&lt;Null&gt;</td>\n",
       "      <td>D11</td>\n",
       "      <td>88</td>\n",
       "      <td>High Park North (88)</td>\n",
       "      <td>2</td>\n",
       "    </tr>\n",
       "    <tr>\n",
       "      <th>2</th>\n",
       "      <td>-8.816480e+06</td>\n",
       "      <td>5.434843e+06</td>\n",
       "      <td>3388101</td>\n",
       "      <td>892810</td>\n",
       "      <td>2006</td>\n",
       "      <td>2006/03/11 05:00:00+00</td>\n",
       "      <td>915</td>\n",
       "      <td>9</td>\n",
       "      <td>MORNINGSIDE AVE</td>\n",
       "      <td>SHEPPARD AVE E</td>\n",
       "      <td>...</td>\n",
       "      <td>&lt;Null&gt;</td>\n",
       "      <td>&lt;Null&gt;</td>\n",
       "      <td>Yes</td>\n",
       "      <td>Yes</td>\n",
       "      <td>&lt;Null&gt;</td>\n",
       "      <td>&lt;Null&gt;</td>\n",
       "      <td>D42</td>\n",
       "      <td>131</td>\n",
       "      <td>Rouge (131)</td>\n",
       "      <td>3</td>\n",
       "    </tr>\n",
       "    <tr>\n",
       "      <th>3</th>\n",
       "      <td>-8.816480e+06</td>\n",
       "      <td>5.434843e+06</td>\n",
       "      <td>3388102</td>\n",
       "      <td>892810</td>\n",
       "      <td>2006</td>\n",
       "      <td>2006/03/11 05:00:00+00</td>\n",
       "      <td>915</td>\n",
       "      <td>9</td>\n",
       "      <td>MORNINGSIDE AVE</td>\n",
       "      <td>SHEPPARD AVE E</td>\n",
       "      <td>...</td>\n",
       "      <td>&lt;Null&gt;</td>\n",
       "      <td>&lt;Null&gt;</td>\n",
       "      <td>Yes</td>\n",
       "      <td>Yes</td>\n",
       "      <td>&lt;Null&gt;</td>\n",
       "      <td>&lt;Null&gt;</td>\n",
       "      <td>D42</td>\n",
       "      <td>131</td>\n",
       "      <td>Rouge (131)</td>\n",
       "      <td>4</td>\n",
       "    </tr>\n",
       "    <tr>\n",
       "      <th>4</th>\n",
       "      <td>-8.822759e+06</td>\n",
       "      <td>5.424516e+06</td>\n",
       "      <td>3387793</td>\n",
       "      <td>892682</td>\n",
       "      <td>2006</td>\n",
       "      <td>2006/03/12 05:00:00+00</td>\n",
       "      <td>240</td>\n",
       "      <td>2</td>\n",
       "      <td>EGLINTON AVE E</td>\n",
       "      <td>COMMONWEALTH AVE</td>\n",
       "      <td>...</td>\n",
       "      <td>&lt;Null&gt;</td>\n",
       "      <td>&lt;Null&gt;</td>\n",
       "      <td>&lt;Null&gt;</td>\n",
       "      <td>&lt;Null&gt;</td>\n",
       "      <td>Yes</td>\n",
       "      <td>&lt;Null&gt;</td>\n",
       "      <td>D41</td>\n",
       "      <td>138</td>\n",
       "      <td>Eglinton East (138)</td>\n",
       "      <td>5</td>\n",
       "    </tr>\n",
       "  </tbody>\n",
       "</table>\n",
       "<p>5 rows × 57 columns</p>\n",
       "</div>"
      ],
      "text/plain": [
       "              X             Y   INDEX_  ACCNUM  YEAR                    DATE  \\\n",
       "0 -8.844611e+06  5.412414e+06  3387730  892658  2006  2006/03/11 05:00:00+00   \n",
       "1 -8.844611e+06  5.412414e+06  3387731  892658  2006  2006/03/11 05:00:00+00   \n",
       "2 -8.816480e+06  5.434843e+06  3388101  892810  2006  2006/03/11 05:00:00+00   \n",
       "3 -8.816480e+06  5.434843e+06  3388102  892810  2006  2006/03/11 05:00:00+00   \n",
       "4 -8.822759e+06  5.424516e+06  3387793  892682  2006  2006/03/12 05:00:00+00   \n",
       "\n",
       "   TIME  HOUR          STREET1           STREET2  ... PASSENGER SPEEDING  \\\n",
       "0   852     8       BLOOR ST W       DUNDAS ST W  ...    <Null>   <Null>   \n",
       "1   852     8       BLOOR ST W       DUNDAS ST W  ...    <Null>   <Null>   \n",
       "2   915     9  MORNINGSIDE AVE    SHEPPARD AVE E  ...    <Null>   <Null>   \n",
       "3   915     9  MORNINGSIDE AVE    SHEPPARD AVE E  ...    <Null>   <Null>   \n",
       "4   240     2   EGLINTON AVE E  COMMONWEALTH AVE  ...    <Null>   <Null>   \n",
       "\n",
       "  AG_DRIV REDLIGHT ALCOHOL  DISABILITY  POLICE_DIVISION HOOD_ID  \\\n",
       "0     Yes   <Null>  <Null>      <Null>              D11      88   \n",
       "1     Yes   <Null>  <Null>      <Null>              D11      88   \n",
       "2     Yes      Yes  <Null>      <Null>              D42     131   \n",
       "3     Yes      Yes  <Null>      <Null>              D42     131   \n",
       "4  <Null>   <Null>     Yes      <Null>              D41     138   \n",
       "\n",
       "          NEIGHBOURHOOD ObjectId  \n",
       "0  High Park North (88)        1  \n",
       "1  High Park North (88)        2  \n",
       "2           Rouge (131)        3  \n",
       "3           Rouge (131)        4  \n",
       "4   Eglinton East (138)        5  \n",
       "\n",
       "[5 rows x 57 columns]"
      ]
     },
     "execution_count": 164,
     "metadata": {},
     "output_type": "execute_result"
    }
   ],
   "source": [
    "collisions.head()"
   ]
  },
  {
   "cell_type": "code",
   "execution_count": 165,
   "metadata": {},
   "outputs": [
    {
     "data": {
      "text/html": [
       "<div>\n",
       "<style scoped>\n",
       "    .dataframe tbody tr th:only-of-type {\n",
       "        vertical-align: middle;\n",
       "    }\n",
       "\n",
       "    .dataframe tbody tr th {\n",
       "        vertical-align: top;\n",
       "    }\n",
       "\n",
       "    .dataframe thead th {\n",
       "        text-align: right;\n",
       "    }\n",
       "</style>\n",
       "<table border=\"1\" class=\"dataframe\">\n",
       "  <thead>\n",
       "    <tr style=\"text-align: right;\">\n",
       "      <th></th>\n",
       "      <th>LATITUDE</th>\n",
       "      <th>LONGITUDE</th>\n",
       "    </tr>\n",
       "  </thead>\n",
       "  <tbody>\n",
       "    <tr>\n",
       "      <th>0</th>\n",
       "      <td>43.656345</td>\n",
       "      <td>-79.452490</td>\n",
       "    </tr>\n",
       "    <tr>\n",
       "      <th>1</th>\n",
       "      <td>43.656345</td>\n",
       "      <td>-79.452490</td>\n",
       "    </tr>\n",
       "    <tr>\n",
       "      <th>2</th>\n",
       "      <td>43.801943</td>\n",
       "      <td>-79.199786</td>\n",
       "    </tr>\n",
       "    <tr>\n",
       "      <th>3</th>\n",
       "      <td>43.801943</td>\n",
       "      <td>-79.199786</td>\n",
       "    </tr>\n",
       "    <tr>\n",
       "      <th>4</th>\n",
       "      <td>43.734945</td>\n",
       "      <td>-79.256190</td>\n",
       "    </tr>\n",
       "    <tr>\n",
       "      <th>...</th>\n",
       "      <td>...</td>\n",
       "      <td>...</td>\n",
       "    </tr>\n",
       "    <tr>\n",
       "      <th>16855</th>\n",
       "      <td>43.714793</td>\n",
       "      <td>-79.238926</td>\n",
       "    </tr>\n",
       "    <tr>\n",
       "      <th>16856</th>\n",
       "      <td>43.740256</td>\n",
       "      <td>-79.232021</td>\n",
       "    </tr>\n",
       "    <tr>\n",
       "      <th>16857</th>\n",
       "      <td>43.740256</td>\n",
       "      <td>-79.232021</td>\n",
       "    </tr>\n",
       "    <tr>\n",
       "      <th>16858</th>\n",
       "      <td>43.740256</td>\n",
       "      <td>-79.232021</td>\n",
       "    </tr>\n",
       "    <tr>\n",
       "      <th>16859</th>\n",
       "      <td>43.660144</td>\n",
       "      <td>-79.434086</td>\n",
       "    </tr>\n",
       "  </tbody>\n",
       "</table>\n",
       "<p>16860 rows × 2 columns</p>\n",
       "</div>"
      ],
      "text/plain": [
       "        LATITUDE  LONGITUDE\n",
       "0      43.656345 -79.452490\n",
       "1      43.656345 -79.452490\n",
       "2      43.801943 -79.199786\n",
       "3      43.801943 -79.199786\n",
       "4      43.734945 -79.256190\n",
       "...          ...        ...\n",
       "16855  43.714793 -79.238926\n",
       "16856  43.740256 -79.232021\n",
       "16857  43.740256 -79.232021\n",
       "16858  43.740256 -79.232021\n",
       "16859  43.660144 -79.434086\n",
       "\n",
       "[16860 rows x 2 columns]"
      ]
     },
     "execution_count": 165,
     "metadata": {},
     "output_type": "execute_result"
    }
   ],
   "source": [
    "collisions[['LATITUDE', 'LONGITUDE']]"
   ]
  },
  {
   "cell_type": "code",
   "execution_count": 166,
   "metadata": {},
   "outputs": [
    {
     "data": {
      "text/plain": [
       "Index(['X', 'Y', 'INDEX_', 'ACCNUM', 'YEAR', 'DATE', 'TIME', 'HOUR', 'STREET1',\n",
       "       'STREET2', 'OFFSET', 'ROAD_CLASS', 'DISTRICT', 'WARDNUM', 'DIVISION',\n",
       "       'LATITUDE', 'LONGITUDE', 'LOCCOORD', 'ACCLOC', 'TRAFFCTL', 'VISIBILITY',\n",
       "       'LIGHT', 'RDSFCOND', 'ACCLASS', 'IMPACTYPE', 'INVTYPE', 'INVAGE',\n",
       "       'INJURY', 'FATAL_NO', 'INITDIR', 'VEHTYPE', 'MANOEUVER', 'DRIVACT',\n",
       "       'DRIVCOND', 'PEDTYPE', 'PEDACT', 'PEDCOND', 'CYCLISTYPE', 'CYCACT',\n",
       "       'CYCCOND', 'PEDESTRIAN', 'CYCLIST', 'AUTOMOBILE', 'MOTORCYCLE', 'TRUCK',\n",
       "       'TRSN_CITY_VEH', 'EMERG_VEH', 'PASSENGER', 'SPEEDING', 'AG_DRIV',\n",
       "       'REDLIGHT', 'ALCOHOL', 'DISABILITY', 'POLICE_DIVISION', 'HOOD_ID',\n",
       "       'NEIGHBOURHOOD', 'ObjectId'],\n",
       "      dtype='object')"
      ]
     },
     "execution_count": 166,
     "metadata": {},
     "output_type": "execute_result"
    }
   ],
   "source": [
    "collisions.columns"
   ]
  },
  {
   "cell_type": "code",
   "execution_count": 167,
   "metadata": {},
   "outputs": [],
   "source": [
    "collisions=collisions[['LATITUDE', 'LONGITUDE', 'DATE', 'PEDESTRIAN', 'CYCLIST', 'AUTOMOBILE', 'MOTORCYCLE']]\n",
    "collisions.replace({'<Null>':np.nan}, inplace=True)\n",
    "collisions.replace({'Yes':1}, inplace=True)"
   ]
  },
  {
   "cell_type": "code",
   "execution_count": 168,
   "metadata": {},
   "outputs": [
    {
     "data": {
      "text/plain": [
       "1.0    6827\n",
       "Name: PEDESTRIAN, dtype: int64"
      ]
     },
     "execution_count": 168,
     "metadata": {},
     "output_type": "execute_result"
    }
   ],
   "source": [
    "collisions.PEDESTRIAN.value_counts()"
   ]
  },
  {
   "cell_type": "code",
   "execution_count": 169,
   "metadata": {},
   "outputs": [
    {
     "data": {
      "text/html": [
       "<div>\n",
       "<style scoped>\n",
       "    .dataframe tbody tr th:only-of-type {\n",
       "        vertical-align: middle;\n",
       "    }\n",
       "\n",
       "    .dataframe tbody tr th {\n",
       "        vertical-align: top;\n",
       "    }\n",
       "\n",
       "    .dataframe thead th {\n",
       "        text-align: right;\n",
       "    }\n",
       "</style>\n",
       "<table border=\"1\" class=\"dataframe\">\n",
       "  <thead>\n",
       "    <tr style=\"text-align: right;\">\n",
       "      <th></th>\n",
       "      <th>LATITUDE</th>\n",
       "      <th>LONGITUDE</th>\n",
       "      <th>DATE</th>\n",
       "      <th>PEDESTRIAN</th>\n",
       "      <th>CYCLIST</th>\n",
       "      <th>AUTOMOBILE</th>\n",
       "      <th>MOTORCYCLE</th>\n",
       "    </tr>\n",
       "  </thead>\n",
       "  <tbody>\n",
       "    <tr>\n",
       "      <th>0</th>\n",
       "      <td>43.656345</td>\n",
       "      <td>-79.452490</td>\n",
       "      <td>2006/03/11 05:00:00+00</td>\n",
       "      <td>1.0</td>\n",
       "      <td>NaN</td>\n",
       "      <td>1.0</td>\n",
       "      <td>NaN</td>\n",
       "    </tr>\n",
       "    <tr>\n",
       "      <th>1</th>\n",
       "      <td>43.656345</td>\n",
       "      <td>-79.452490</td>\n",
       "      <td>2006/03/11 05:00:00+00</td>\n",
       "      <td>1.0</td>\n",
       "      <td>NaN</td>\n",
       "      <td>1.0</td>\n",
       "      <td>NaN</td>\n",
       "    </tr>\n",
       "    <tr>\n",
       "      <th>2</th>\n",
       "      <td>43.801943</td>\n",
       "      <td>-79.199786</td>\n",
       "      <td>2006/03/11 05:00:00+00</td>\n",
       "      <td>NaN</td>\n",
       "      <td>NaN</td>\n",
       "      <td>1.0</td>\n",
       "      <td>1.0</td>\n",
       "    </tr>\n",
       "    <tr>\n",
       "      <th>3</th>\n",
       "      <td>43.801943</td>\n",
       "      <td>-79.199786</td>\n",
       "      <td>2006/03/11 05:00:00+00</td>\n",
       "      <td>NaN</td>\n",
       "      <td>NaN</td>\n",
       "      <td>1.0</td>\n",
       "      <td>1.0</td>\n",
       "    </tr>\n",
       "    <tr>\n",
       "      <th>4</th>\n",
       "      <td>43.734945</td>\n",
       "      <td>-79.256190</td>\n",
       "      <td>2006/03/12 05:00:00+00</td>\n",
       "      <td>1.0</td>\n",
       "      <td>NaN</td>\n",
       "      <td>1.0</td>\n",
       "      <td>NaN</td>\n",
       "    </tr>\n",
       "  </tbody>\n",
       "</table>\n",
       "</div>"
      ],
      "text/plain": [
       "    LATITUDE  LONGITUDE                    DATE  PEDESTRIAN  CYCLIST  \\\n",
       "0  43.656345 -79.452490  2006/03/11 05:00:00+00         1.0      NaN   \n",
       "1  43.656345 -79.452490  2006/03/11 05:00:00+00         1.0      NaN   \n",
       "2  43.801943 -79.199786  2006/03/11 05:00:00+00         NaN      NaN   \n",
       "3  43.801943 -79.199786  2006/03/11 05:00:00+00         NaN      NaN   \n",
       "4  43.734945 -79.256190  2006/03/12 05:00:00+00         1.0      NaN   \n",
       "\n",
       "   AUTOMOBILE  MOTORCYCLE  \n",
       "0         1.0         NaN  \n",
       "1         1.0         NaN  \n",
       "2         1.0         1.0  \n",
       "3         1.0         1.0  \n",
       "4         1.0         NaN  "
      ]
     },
     "execution_count": 169,
     "metadata": {},
     "output_type": "execute_result"
    }
   ],
   "source": [
    "collisions.head()"
   ]
  },
  {
   "cell_type": "code",
   "execution_count": 170,
   "metadata": {},
   "outputs": [],
   "source": [
    "collisions.to_csv('collisions.csv', sep=',')"
   ]
  },
  {
   "cell_type": "markdown",
   "metadata": {},
   "source": [
    "# TTC Delays"
   ]
  },
  {
   "cell_type": "code",
   "execution_count": 171,
   "metadata": {},
   "outputs": [],
   "source": [
    "delays21 = pd.concat(pd.read_excel('Data/ttc-streetcar-delay-data-2021.xlsx', sheet_name=None), ignore_index=True)\n",
    "delays20 = pd.concat(pd.read_excel('Data/ttc-streetcar-delay-data-2020.xlsx', sheet_name=None), ignore_index=True)\n",
    "delays19 = pd.concat(pd.read_excel('Data/ttc-streetcar-delay-data-2019.xlsx', sheet_name=None), ignore_index=True)"
   ]
  },
  {
   "cell_type": "code",
   "execution_count": 172,
   "metadata": {},
   "outputs": [],
   "source": [
    "delays = pd.concat([delays21, delays20, delays19]).reset_index(drop=True)"
   ]
  },
  {
   "cell_type": "code",
   "execution_count": 173,
   "metadata": {},
   "outputs": [
    {
     "data": {
      "text/plain": [
       "Index(['Date', 'Line', 'Time', 'Day', 'Location', 'Incident', 'Min Delay',\n",
       "       'Min Gap', 'Bound', 'Vehicle', 'Report Date', 'Route', 'Delay', 'Gap',\n",
       "       'Direction', 'Incident ID'],\n",
       "      dtype='object')"
      ]
     },
     "execution_count": 173,
     "metadata": {},
     "output_type": "execute_result"
    }
   ],
   "source": [
    "delays.columns"
   ]
  },
  {
   "cell_type": "code",
   "execution_count": 174,
   "metadata": {},
   "outputs": [],
   "source": [
    "delays = delays[['Location', 'Min Gap', 'Delay']]\n",
    "delays.rename({'Min Gap':'Delay Min'}, inplace=True)"
   ]
  },
  {
   "cell_type": "code",
   "execution_count": 175,
   "metadata": {},
   "outputs": [
    {
     "data": {
      "text/html": [
       "<div>\n",
       "<style scoped>\n",
       "    .dataframe tbody tr th:only-of-type {\n",
       "        vertical-align: middle;\n",
       "    }\n",
       "\n",
       "    .dataframe tbody tr th {\n",
       "        vertical-align: top;\n",
       "    }\n",
       "\n",
       "    .dataframe thead th {\n",
       "        text-align: right;\n",
       "    }\n",
       "</style>\n",
       "<table border=\"1\" class=\"dataframe\">\n",
       "  <thead>\n",
       "    <tr style=\"text-align: right;\">\n",
       "      <th></th>\n",
       "      <th>Location</th>\n",
       "      <th>Minute Delay</th>\n",
       "    </tr>\n",
       "  </thead>\n",
       "  <tbody>\n",
       "    <tr>\n",
       "      <th>19313</th>\n",
       "      <td>Queen St E and Leslie St</td>\n",
       "      <td>8.0</td>\n",
       "    </tr>\n",
       "    <tr>\n",
       "      <th>22718</th>\n",
       "      <td>Leslie and Lakeshore</td>\n",
       "      <td>1.0</td>\n",
       "    </tr>\n",
       "    <tr>\n",
       "      <th>15944</th>\n",
       "      <td>BROADVIEW STN TO DUNDA</td>\n",
       "      <td>20.0</td>\n",
       "    </tr>\n",
       "    <tr>\n",
       "      <th>5613</th>\n",
       "      <td>DUNDAS WEST STATION</td>\n",
       "      <td>12.0</td>\n",
       "    </tr>\n",
       "    <tr>\n",
       "      <th>2628</th>\n",
       "      <td>RONCESVALLES AND QUEEN</td>\n",
       "      <td>14.0</td>\n",
       "    </tr>\n",
       "  </tbody>\n",
       "</table>\n",
       "</div>"
      ],
      "text/plain": [
       "                       Location  Minute Delay\n",
       "19313  Queen St E and Leslie St           8.0\n",
       "22718      Leslie and Lakeshore           1.0\n",
       "15944    BROADVIEW STN TO DUNDA          20.0\n",
       "5613        DUNDAS WEST STATION          12.0\n",
       "2628     RONCESVALLES AND QUEEN          14.0"
      ]
     },
     "execution_count": 175,
     "metadata": {},
     "output_type": "execute_result"
    }
   ],
   "source": [
    "delays.fillna(0, inplace=True)\n",
    "delays['Minute Delay'] = delays['Min Gap'] + delays['Delay']\n",
    "delays = delays[['Location', 'Minute Delay']]\n",
    "delays.sample(5)"
   ]
  },
  {
   "cell_type": "code",
   "execution_count": 176,
   "metadata": {},
   "outputs": [],
   "source": [
    "delays.to_csv('TTC_Delays.csv', sep=',')"
   ]
  },
  {
   "cell_type": "code",
   "execution_count": null,
   "metadata": {},
   "outputs": [],
   "source": []
  }
 ],
 "metadata": {
  "kernelspec": {
   "display_name": "Python 3",
   "language": "python",
   "name": "python3"
  },
  "language_info": {
   "codemirror_mode": {
    "name": "ipython",
    "version": 3
   },
   "file_extension": ".py",
   "mimetype": "text/x-python",
   "name": "python",
   "nbconvert_exporter": "python",
   "pygments_lexer": "ipython3",
   "version": "3.8.5"
  }
 },
 "nbformat": 4,
 "nbformat_minor": 4
}
